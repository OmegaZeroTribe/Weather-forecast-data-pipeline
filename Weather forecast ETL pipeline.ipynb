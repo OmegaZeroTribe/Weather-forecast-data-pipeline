{
 "cells": [
  {
   "cell_type": "code",
   "execution_count": null,
   "id": "67ca6fe2",
   "metadata": {},
   "outputs": [],
   "source": [
    "import requests\n",
    "import pandas as pd\n",
    "import json\n",
    "import configparser\n",
    "from pymongo import MongoClient\n",
    "from datetime import datetime , date"
   ]
  },
  {
   "cell_type": "code",
   "execution_count": null,
   "id": "710e1600",
   "metadata": {},
   "outputs": [],
   "source": [
    "def read_key():\n",
    "    config_reader = configparser.ConfigParser()\n",
    "    config_reader.read('config_file.ini')\n",
    "    api_key  = config_reader['Dev']['key']\n",
    "    return api_key"
   ]
  },
  {
   "cell_type": "code",
   "execution_count": null,
   "id": "778f2b70",
   "metadata": {},
   "outputs": [],
   "source": [
    "def weather_forecat_api():\n",
    "    url = \"https://data.tmd.go.th/nwpapi/v1/forecast/location/daily/place\"\n",
    "    date_now = str(datetime.now().date())\n",
    "    api_key = read_key()\n",
    "    querystring = {\"province\":u\"กรุงเทพมหานคร\",\"subarea\":\"1\" ,\"fields\":\"cond,ws10m,rain,tc_min,tc_max,rh\", \"date\":f\"{date_now}\", \"hour\":\"8\", \"duration\":\"14\"}\n",
    "    headers = {\n",
    "        'accept': \"application/json\",\n",
    "        'authorization': f\"Bearer {api_key}\",\n",
    "    }\n",
    "    response = requests.request(\"GET\", url, headers=headers, params=querystring)\n",
    "    data = response.json()\n",
    "    return data"
   ]
  },
  {
   "cell_type": "code",
   "execution_count": null,
   "id": "76263944",
   "metadata": {},
   "outputs": [],
   "source": [
    "def normalized_json(data):\n",
    "    forcast_list =  []\n",
    "    for forcast in data['WeatherForecasts']:\n",
    "        location = forcast['location']\n",
    "        for day in forcast['forecasts']:\n",
    "            combined_data = {**location, **day['data'], 'time': day['time']}\n",
    "            forcast_list.append(combined_data)\n",
    "    return forcast_list\n",
    "\n",
    "def transform_cond(status):\n",
    "    if status ==1:\n",
    "        return 'Clear'\n",
    "    elif status ==2:\n",
    "        return 'Partly cloudy'\n",
    "    elif status ==3:\n",
    "        return 'Cloudy'\n",
    "    elif  status ==4:\n",
    "        return 'Overcast'\n",
    "    elif status ==5:\n",
    "        return 'Light rain'\n",
    "    elif status ==6:\n",
    "        return 'Moderate rain'\n",
    "    elif status ==7:\n",
    "        return 'Heavy rain'\n",
    "    elif status ==8:\n",
    "        return 'Thunderstorm'\n",
    "    elif status ==9:\n",
    "        return 'Very cold'\n",
    "    elif status ==10:\n",
    "        return 'Cold'\n",
    "    elif status ==11:\n",
    "        return 'Cool'\n",
    "    elif status ==12:\n",
    "        return 'Very hot'\n",
    "    else:\n",
    "        return None"
   ]
  },
  {
   "cell_type": "code",
   "execution_count": null,
   "id": "9100852b",
   "metadata": {},
   "outputs": [],
   "source": [
    "def transfrom_data(forcast_list):\n",
    "    df = pd.DataFrame(forcast_list)\n",
    "    #filter only areatype == amphoe \n",
    "    df_amphoe= df[~((df['areatype']=='province')&(df['amphoe'].isnull()))]\n",
    "    df_amphoe.drop(columns='tambon',inplace=True)\n",
    "    #transform status weather\n",
    "    df_amphoe['cond'] = df_amphoe['cond'].apply(transform_cond)\n",
    "    df_amphoe.reset_index(inplace=True)\n",
    "    df_amphoe.drop(columns='index',inplace=True)\n",
    "    return df_amphoe"
   ]
  },
  {
   "cell_type": "code",
   "execution_count": null,
   "id": "5068ab4d",
   "metadata": {},
   "outputs": [],
   "source": [
    "def ingest_2MongoDB(df_amphoe):\n",
    "    database = myclient['mydb']\n",
    "    collection = database['weather_forecast']\n",
    "    data_dict = df_amphoe.to_dict(orient='records')\n",
    "    collection.insert_many(data_dict)"
   ]
  },
  {
   "cell_type": "code",
   "execution_count": null,
   "id": "2238d235",
   "metadata": {},
   "outputs": [],
   "source": [
    "if __name__==\"__main__\":\n",
    "    \n",
    "    conn_str = \n",
    "    myclient = MongoClient(conn_str)\n",
    "    \n",
    "    data = weather_forecat_api()\n",
    "    forcast_list = normalized_json(data)\n",
    "    df_amphoe = transfrom_data(forcast_list)\n",
    "    ingest_2MongoDB(df_amphoe)\n",
    "    \n",
    "    myclient.close()"
   ]
  }
 ],
 "metadata": {
  "kernelspec": {
   "display_name": "Python 3 (ipykernel)",
   "language": "python",
   "name": "python3"
  },
  "language_info": {
   "codemirror_mode": {
    "name": "ipython",
    "version": 3
   },
   "file_extension": ".py",
   "mimetype": "text/x-python",
   "name": "python",
   "nbconvert_exporter": "python",
   "pygments_lexer": "ipython3",
   "version": "3.9.7"
  }
 },
 "nbformat": 4,
 "nbformat_minor": 5
}
